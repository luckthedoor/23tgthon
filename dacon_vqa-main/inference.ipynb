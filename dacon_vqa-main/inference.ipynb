{
 "cells": [
  {
   "cell_type": "code",
   "execution_count": null,
   "metadata": {},
   "outputs": [],
   "source": [
    "from transformers import AutoProcessor,AutoModelForCausalLM\n",
    "from utils import get_dataset\n",
    "from tqdm import tqdm\n",
    "from literal import ANSWER,IMG,QUESTION\n",
    "import pandas as pd"
   ]
  },
  {
   "cell_type": "code",
   "execution_count": null,
   "metadata": {},
   "outputs": [],
   "source": [
    "processor = AutoProcessor.from_pretrained(\"microsoft/git-base-coco\")\n",
    "model = AutoModelForCausalLM.from_pretrained(\"output/checkpoint-3000/\")"
   ]
  },
  {
   "cell_type": "code",
   "execution_count": null,
   "metadata": {},
   "outputs": [],
   "source": [
    "model.to('cuda')"
   ]
  },
  {
   "cell_type": "code",
   "execution_count": null,
   "metadata": {},
   "outputs": [],
   "source": [
    "test_datasets = get_dataset('data/preprocess_test.csv')"
   ]
  },
  {
   "cell_type": "code",
   "execution_count": null,
   "metadata": {},
   "outputs": [],
   "source": [
    "labels = []\n",
    "\n",
    "for i in tqdm(range(len(test_datasets))):\n",
    "    image = test_datasets[i][IMG]\n",
    "    question = test_datasets[i][QUESTION].lower()\n",
    "    pixel_values = processor(images=image, return_tensors=\"pt\").pixel_values.to('cuda')\n",
    "    input_ids = processor(text=question, return_tensors=\"pt\").input_ids.to('cuda')\n",
    "\n",
    "    generated_ids = model.generate(pixel_values=pixel_values, input_ids=input_ids, max_length=50,eos_token_id = 102)[0]\n",
    "    answer = processor.tokenizer.decode(generated_ids,skip_special_tokens=True).replace(question,\"\").lstrip().rstrip()\n",
    "    labels.append(answer)"
   ]
  },
  {
   "cell_type": "code",
   "execution_count": null,
   "metadata": {},
   "outputs": [],
   "source": [
    "sub = pd.read_csv('data/sample_submission.csv')\n",
    "sub[ANSWER] = labels"
   ]
  },
  {
   "cell_type": "code",
   "execution_count": null,
   "metadata": {},
   "outputs": [],
   "source": [
    "sub.to_csv('0.csv',index=False)"
   ]
  }
 ],
 "metadata": {
  "kernelspec": {
   "display_name": ".vqa",
   "language": "python",
   "name": "python3"
  },
  "language_info": {
   "codemirror_mode": {
    "name": "ipython",
    "version": 3
   },
   "file_extension": ".py",
   "mimetype": "text/x-python",
   "name": "python",
   "nbconvert_exporter": "python",
   "pygments_lexer": "ipython3",
   "version": "3.8.13"
  },
  "orig_nbformat": 4
 },
 "nbformat": 4,
 "nbformat_minor": 2
}
